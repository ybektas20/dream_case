{
 "cells": [
  {
   "cell_type": "code",
   "execution_count": null,
   "metadata": {},
   "outputs": [
    {
     "name": "stderr",
     "output_type": "stream",
     "text": [
      "/home/yusuf/myenv/lib/python3.12/site-packages/google/cloud/bigquery/table.py:1820: UserWarning: BigQuery Storage module not found, fetch data with the REST endpoint instead.\n",
      "  warnings.warn(\n"
     ]
    },
    {
     "name": "stdout",
     "output_type": "stream",
     "text": [
      "Shape of AB Test Tables:\n",
      "                 table_name  row_count  column_count\n",
      "0    q2_table_ab_test_enter      73450             5\n",
      "1  q2_table_ab_test_session  224144299             5\n",
      "2  q2_table_ab_test_revenue      74929             6\n"
     ]
    }
   ],
   "source": [
    "import os\n",
    "from google.cloud import bigquery as bq\n",
    "import pandas as pd\n",
    "from concurrent.futures import ThreadPoolExecutor, as_completed\n",
    "\n",
    "service_account_path = '/home/yusuf/DataScience/dream_games/ybektas20.json'\n",
    "client = bq.Client.from_service_account_json(service_account_path)\n",
    "ab_shape_query = \"\"\"\n",
    "-- Get the shape (row and column counts) for AB test tables\n",
    "WITH row_counts AS (\n",
    "  SELECT 'q2_table_ab_test_enter' AS table_name, \n",
    "         (SELECT COUNT(*) FROM `casedreamgames.case_db.q2_table_ab_test_enter`) AS row_count\n",
    "  UNION ALL\n",
    "  SELECT 'q2_table_ab_test_revenue' AS table_name, \n",
    "         (SELECT COUNT(*) FROM `casedreamgames.case_db.q2_table_ab_test_revenue`) AS row_count\n",
    "  UNION ALL\n",
    "  SELECT 'q2_table_ab_test_session' AS table_name, \n",
    "         (SELECT COUNT(*) FROM `casedreamgames.case_db.q2_table_ab_test_session`) AS row_count\n",
    "),\n",
    "column_counts AS (\n",
    "  SELECT table_name, COUNT(*) AS column_count\n",
    "  FROM `casedreamgames.case_db.INFORMATION_SCHEMA.COLUMNS`\n",
    "  WHERE table_name IN ('q2_table_ab_test_enter', 'q2_table_ab_test_revenue', 'q2_table_ab_test_session')\n",
    "  GROUP BY table_name\n",
    ")\n",
    "SELECT r.table_name, r.row_count, c.column_count\n",
    "FROM row_counts r\n",
    "JOIN column_counts c ON r.table_name = c.table_name;\n",
    "\"\"\"\n",
    "ab_shape = client.query(ab_shape_query).result().to_dataframe()\n",
    "print(\"Shape of AB Test Tables:\")\n",
    "print(ab_shape)\n"
   ]
  },
  {
   "cell_type": "code",
   "execution_count": 15,
   "metadata": {},
   "outputs": [
    {
     "name": "stderr",
     "output_type": "stream",
     "text": [
      "/home/yusuf/myenv/lib/python3.12/site-packages/google/cloud/bigquery/table.py:1820: UserWarning: BigQuery Storage module not found, fetch data with the REST endpoint instead.\n",
      "  warnings.warn(\n"
     ]
    },
    {
     "name": "stdout",
     "output_type": "stream",
     "text": [
      "Per-user Revenue DataFrame:\n",
      "             user_id group_id  revenue\n",
      "0  txlqw6185177497a2        A      0.0\n",
      "1  txlqw6185791752a2        A      0.0\n",
      "2  txlqw6187363919a2        A      0.0\n",
      "3  txlqw6186918784a2        A      0.0\n",
      "4  txlqw6186405215a2        A      0.0\n",
      "\n",
      "T-test for ARPU:\n",
      "t-statistic = -2.9891326045019815 p-value = 0.002798791152997717\n"
     ]
    }
   ],
   "source": [
    "# Query to get per-user revenue (ARPU) for the AB test\n",
    "user_revenue_query = \"\"\"\n",
    "SELECT \n",
    "  a.user_id,\n",
    "  a.group_id,\n",
    "  COALESCE(SUM(CAST(r.dollar_amount AS FLOAT64)), 0) AS revenue\n",
    "FROM `casedreamgames.case_db.q2_table_ab_test_enter` a\n",
    "LEFT JOIN `casedreamgames.case_db.q2_table_ab_test_revenue` r\n",
    "  ON a.user_id = r.user_id\n",
    "GROUP BY a.user_id, a.group_id\n",
    "\"\"\"\n",
    "ab_user_revenue = client.query(user_revenue_query).result().to_dataframe()\n",
    "print(\"Per-user Revenue DataFrame:\")\n",
    "print(ab_user_revenue.head())\n",
    "\n",
    "# Separate revenue data by group\n",
    "group_A_revenue = ab_user_revenue[ab_user_revenue['group_id'] == 'A']['revenue']\n",
    "group_B_revenue = ab_user_revenue[ab_user_revenue['group_id'] == 'B']['revenue']\n",
    "\n",
    "# Perform t-test on ARPU between groups\n",
    "from scipy import stats\n",
    "t_stat_arpu, p_val_arpu = stats.ttest_ind(group_A_revenue, group_B_revenue, equal_var=False)\n",
    "print(\"\\nT-test for ARPU:\")\n",
    "print(\"t-statistic =\", t_stat_arpu, \"p-value =\", p_val_arpu)\n"
   ]
  },
  {
   "cell_type": "code",
   "execution_count": 22,
   "metadata": {},
   "outputs": [
    {
     "data": {
      "text/plain": [
       "<Axes: title={'center': 'Average Revenue per User by Group'}, xlabel='group_id'>"
      ]
     },
     "execution_count": 22,
     "metadata": {},
     "output_type": "execute_result"
    },
    {
     "data": {
      "image/png": "[encoded data removed]",
      "text/plain": [
       "<Figure size 640x480 with 1 Axes>"
      ]
     },
     "metadata": {},
     "output_type": "display_data"
    }
   ],
   "source": [
    "ab_user_revenue.groupby('group_id')['revenue'].mean().plot(kind='bar', title='Average Revenue per User by Group')"
   ]
  },
  {
   "cell_type": "code",
   "execution_count": 20,
   "metadata": {},
   "outputs": [
    {
     "name": "stderr",
     "output_type": "stream",
     "text": [
      "/home/yusuf/myenv/lib/python3.12/site-packages/google/cloud/bigquery/table.py:1820: UserWarning: BigQuery Storage module not found, fetch data with the REST endpoint instead.\n",
      "  warnings.warn(\n"
     ]
    },
    {
     "name": "stdout",
     "output_type": "stream",
     "text": [
      "\n",
      "Conversion DataFrame:\n",
      "             user_id group_id  converted\n",
      "0  txlqw6185177497a2        A          0\n",
      "1  txlqw6185791752a2        A          0\n",
      "2  txlqw6187363919a2        A          0\n",
      "3  txlqw6186918784a2        A          0\n",
      "4  txlqw6186405215a2        A          0\n",
      "\n",
      "Conversion Summary by Group:\n",
      "  group_id  total_users  converters\n",
      "0        A        37188        2782\n",
      "1        B        36262        3261\n",
      "\n",
      "Proportions Z-test for Conversion Rate:\n",
      "z-statistic = -7.455721218299171 p-value = 8.937755283786538e-14\n"
     ]
    }
   ],
   "source": [
    "# Query to get conversion flag per user (1 if revenue > 0, else 0)\n",
    "conversion_query = \"\"\"\n",
    "SELECT \n",
    "  a.user_id,\n",
    "  a.group_id,\n",
    "  CASE \n",
    "    WHEN COALESCE(SUM(CAST(r.dollar_amount AS FLOAT64)), 0) > 0 THEN 1 \n",
    "    ELSE 0 \n",
    "  END AS converted\n",
    "FROM `casedreamgames.case_db.q2_table_ab_test_enter` a\n",
    "LEFT JOIN `casedreamgames.case_db.q2_table_ab_test_revenue` r\n",
    "  ON a.user_id = r.user_id\n",
    "GROUP BY a.user_id, a.group_id\n",
    "\"\"\"\n",
    "ab_conversion = client.query(conversion_query).result().to_dataframe()\n",
    "print(\"\\nConversion DataFrame:\")\n",
    "print(ab_conversion.head())\n",
    "\n",
    "# Aggregate conversion counts by group\n",
    "conv_summary = ab_conversion.groupby('group_id').agg(\n",
    "    total_users=('user_id', 'nunique'),\n",
    "    converters=('converted', 'sum')\n",
    ").reset_index()\n",
    "print(\"\\nConversion Summary by Group:\")\n",
    "print(conv_summary)\n",
    "\n",
    "# Use proportions_ztest for conversion rate difference\n",
    "from statsmodels.stats.proportion import proportions_ztest\n",
    "count = conv_summary['converters'].values\n",
    "nobs = conv_summary['total_users'].values\n",
    "z_stat, p_val_conv = proportions_ztest(count, nobs)\n",
    "print(\"\\nProportions Z-test for Conversion Rate:\")\n",
    "print(\"z-statistic =\", z_stat, \"p-value =\", p_val_conv)\n"
   ]
  },
  {
   "cell_type": "code",
   "execution_count": null,
   "metadata": {},
   "outputs": [
    {
     "data": {
      "text/plain": [
       "<Axes: title={'center': 'Conversion Rate by Group'}, xlabel='group_id'>"
      ]
     },
     "execution_count": 23,
     "metadata": {},
     "output_type": "execute_result"
    },
    {
     "data": {
      "image/png": "[encoded data removed]",
      "text/plain": [
       "<Figure size 640x480 with 1 Axes>"
      ]
     },
     "metadata": {},
     "output_type": "display_data"
    }
   ],
   "source": [
    "ab_conversion.groupby('group_id')['converted'].mean().plot(kind='bar', title='Conversion Rate by Group')"
   ]
  },
  {
   "cell_type": "code",
   "execution_count": 21,
   "metadata": {},
   "outputs": [
    {
     "name": "stderr",
     "output_type": "stream",
     "text": [
      "/home/yusuf/myenv/lib/python3.12/site-packages/google/cloud/bigquery/table.py:1820: UserWarning: BigQuery Storage module not found, fetch data with the REST endpoint instead.\n",
      "  warnings.warn(\n"
     ]
    },
    {
     "name": "stdout",
     "output_type": "stream",
     "text": [
      "\n",
      "Session Duration DataFrame:\n",
      "             user_id group_id  avg_session_duration\n",
      "0  txlqw6184685673a2        A             29.157792\n",
      "1  txlqw6184687464a2        A             28.659529\n",
      "2  txlqw6184689990a2        A             29.255713\n",
      "3  txlqw6184691081a2        A             28.051414\n",
      "4  txlqw6184698455a2        A             28.430380\n",
      "\n",
      "T-test for Average Session Duration:\n",
      "t-statistic = 1.4122732799423077 p-value = 0.15787376234645648\n"
     ]
    }
   ],
   "source": [
    "# Query to get average session duration per user along with group information\n",
    "session_duration_query = \"\"\"\n",
    "SELECT\n",
    "  a.user_id,\n",
    "  a.group_id,\n",
    "  AVG(s.time_spent) AS avg_session_duration\n",
    "FROM `casedreamgames.case_db.q2_table_ab_test_enter` a\n",
    "JOIN `casedreamgames.case_db.q2_table_ab_test_session` s\n",
    "  ON a.user_id = s.user_id\n",
    "GROUP BY a.user_id, a.group_id\n",
    "\"\"\"\n",
    "ab_session_duration = client.query(session_duration_query).result().to_dataframe()\n",
    "print(\"\\nSession Duration DataFrame:\")\n",
    "print(ab_session_duration.head())\n",
    "\n",
    "# Separate session duration data by group\n",
    "group_A_duration = ab_session_duration[ab_session_duration['group_id'] == 'A']['avg_session_duration']\n",
    "group_B_duration = ab_session_duration[ab_session_duration['group_id'] == 'B']['avg_session_duration']\n",
    "\n",
    "# Perform t-test on average session duration\n",
    "t_stat_duration, p_val_duration = stats.ttest_ind(group_A_duration, group_B_duration, equal_var=False)\n",
    "print(\"\\nT-test for Average Session Duration:\")\n",
    "print(\"t-statistic =\", t_stat_duration, \"p-value =\", p_val_duration)\n"
   ]
  },
  {
   "cell_type": "code",
   "execution_count": 24,
   "metadata": {},
   "outputs": [
    {
     "data": {
      "text/plain": [
       "<Axes: title={'center': 'Average Session Duration by Group'}, xlabel='group_id'>"
      ]
     },
     "execution_count": 24,
     "metadata": {},
     "output_type": "execute_result"
    },
    {
     "data": {
      "image/png": "[encoded data removed]",
      "text/plain": [
       "<Figure size 640x480 with 1 Axes>"
      ]
     },
     "metadata": {},
     "output_type": "display_data"
    }
   ],
   "source": [
    "ab_session_duration.groupby('group_id')['avg_session_duration'].mean().plot(kind='bar', title='Average Session Duration by Group')"
   ]
  }
 ],
 "metadata": {
  "kernelspec": {
   "display_name": "myenv",
   "language": "python",
   "name": "python3"
  },
  "language_info": {
   "codemirror_mode": {
    "name": "ipython",
    "version": 3
   },
   "file_extension": ".py",
   "mimetype": "text/x-python",
   "name": "python",
   "nbconvert_exporter": "python",
   "pygments_lexer": "ipython3",
   "version": "3.12.3"
  }
 },
 "nbformat": 4,
 "nbformat_minor": 2
}
