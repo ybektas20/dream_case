{
 "cells": [
  {
   "cell_type": "code",
   "execution_count": 5,
   "metadata": {},
   "outputs": [
    {
     "name": "stdout",
     "output_type": "stream",
     "text": [
      "Results for q2_table_ab_test_enter:\n"
     ]
    },
    {
     "name": "stderr",
     "output_type": "stream",
     "text": [
      "/home/yusuf/myenv/lib/python3.12/site-packages/google/cloud/bigquery/table.py:1820: UserWarning: BigQuery Storage module not found, fetch data with the REST endpoint instead.\n",
      "  warnings.warn(\n"
     ]
    },
    {
     "name": "stdout",
     "output_type": "stream",
     "text": [
      "Shape: (73450 rows)\n",
      "Column 'test_entry_timestamp': non-null = 73450, null = 0\n",
      "Column 'install_timestamp': non-null = 72249, null = 1201\n",
      "Column 'user_id': non-null = 73450, null = 0\n",
      "Column 'platform': non-null = 73450, null = 0\n",
      "Column 'group_id': non-null = 73450, null = 0\n",
      "\n",
      "--------------------------------------------------\n",
      "\n",
      "Results for q2_table_ab_test_revenue:\n",
      "Shape: (74929 rows)\n",
      "Column 'event_timestamp': non-null = 74929, null = 0\n",
      "Column 'user_id': non-null = 74929, null = 0\n",
      "Column 'platform': non-null = 74929, null = 0\n",
      "Column 'package_type': non-null = 74929, null = 0\n",
      "Column 'level': non-null = 74929, null = 0\n",
      "Column 'dollar_amount': non-null = 74929, null = 0\n",
      "\n",
      "--------------------------------------------------\n",
      "\n",
      "Results for q2_table_ab_test_session:\n",
      "Shape: (224144299 rows)\n",
      "Column 'event_timestamp': non-null = 224144299, null = 0\n",
      "Column 'user_id': non-null = 224144299, null = 0\n",
      "Column 'platform': non-null = 224144246, null = 53\n",
      "Column 'time_spent': non-null = 224144296, null = 3\n",
      "Column 'level': non-null = 224144299, null = 0\n",
      "\n",
      "--------------------------------------------------\n",
      "\n"
     ]
    }
   ],
   "source": [
    "import pandas as pd\n",
    "import numpy as np\n",
    "from google.cloud import bigquery as bq\n",
    "\n",
    "service_account_path = \"/home/yusuf/DataScience/dream_games/ybektas20.json\" \n",
    "client = bq.Client.from_service_account_json(service_account_path)\n",
    "\n",
    "# Define queries for AB test tables.\n",
    "ab_test_tables_queries = {\n",
    "    \"q2_table_ab_test_enter\": \"\"\"\n",
    "        SELECT\n",
    "          COUNT(*) AS total_rows,\n",
    "          COUNT(test_entry_timestamp) AS non_null_test_entry_timestamp,\n",
    "          COUNT(install_timestamp) AS non_null_install_timestamp,\n",
    "          COUNT(user_id) AS non_null_user_id,\n",
    "          COUNT(platform) AS non_null_platform,\n",
    "          COUNT(group_id) AS non_null_group_id\n",
    "        FROM `casedreamgames.case_db.q2_table_ab_test_enter`;\n",
    "    \"\"\",\n",
    "    \"q2_table_ab_test_revenue\": \"\"\"\n",
    "        SELECT\n",
    "          COUNT(*) AS total_rows,\n",
    "          COUNT(event_timestamp) AS non_null_event_timestamp,\n",
    "          COUNT(user_id) AS non_null_user_id,\n",
    "          COUNT(platform) AS non_null_platform,\n",
    "          COUNT(package_type) AS non_null_package_type,\n",
    "          COUNT(level) AS non_null_level,\n",
    "          COUNT(dollar_amount) AS non_null_dollar_amount\n",
    "        FROM `casedreamgames.case_db.q2_table_ab_test_revenue`;\n",
    "    \"\"\",\n",
    "    \"q2_table_ab_test_session\": \"\"\"\n",
    "        SELECT\n",
    "          COUNT(*) AS total_rows,\n",
    "          COUNT(event_timestamp) AS non_null_event_timestamp,\n",
    "          COUNT(user_id) AS non_null_user_id,\n",
    "          COUNT(platform) AS non_null_platform,\n",
    "          COUNT(time_spent) AS non_null_time_spent,\n",
    "          COUNT(level) AS non_null_level\n",
    "        FROM `casedreamgames.case_db.q2_table_ab_test_session`;\n",
    "    \"\"\"\n",
    "}\n",
    "\n",
    "# Iterate through each query, execute it, and print the shape and null counts per column.\n",
    "for table_name, query in ab_test_tables_queries.items():\n",
    "    print(f\"Results for {table_name}:\")\n",
    "    \n",
    "    # Run the query; assumes 'client' is your configured BigQuery client.\n",
    "    df = client.query(query).result().to_dataframe()\n",
    "    \n",
    "    # Extract total row count.\n",
    "    total_rows = df.loc[0, \"total_rows\"]\n",
    "    print(f\"Shape: ({total_rows} rows)\")\n",
    "    \n",
    "    # For each column (ignoring the total_rows column), compute and print null counts.\n",
    "    for col in df.columns:\n",
    "        if col != \"total_rows\":\n",
    "            non_null_count = df.loc[0, col]\n",
    "            null_count = total_rows - non_null_count\n",
    "            # Remove the \"non_null_\" prefix to display the original column name.\n",
    "            orig_col = col.replace(\"non_null_\", \"\")\n",
    "            print(f\"Column '{orig_col}': non-null = {non_null_count}, null = {null_count}\")\n",
    "    \n",
    "    print(\"\\n\" + \"-\"*50 + \"\\n\")\n"
   ]
  },
  {
   "cell_type": "code",
   "execution_count": null,
   "metadata": {},
   "outputs": [],
   "source": []
  }
 ],
 "metadata": {
  "kernelspec": {
   "display_name": "myenv",
   "language": "python",
   "name": "python3"
  },
  "language_info": {
   "codemirror_mode": {
    "name": "ipython",
    "version": 3
   },
   "file_extension": ".py",
   "mimetype": "text/x-python",
   "name": "python",
   "nbconvert_exporter": "python",
   "pygments_lexer": "ipython3",
   "version": "3.12.3"
  }
 },
 "nbformat": 4,
 "nbformat_minor": 2
}
